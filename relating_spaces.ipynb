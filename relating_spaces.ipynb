{
 "cells": [
  {
   "cell_type": "markdown",
   "metadata": {},
   "source": [
    "# In this notebook, we look at relating the two vector spaces"
   ]
  },
  {
   "cell_type": "code",
   "execution_count": 18,
   "metadata": {
    "scrolled": false
   },
   "outputs": [
    {
     "data": {
      "image/png": "[encoded data removed]",
      "text/plain": [
       "<matplotlib.figure.Figure at 0x7fbae5302c50>"
      ]
     },
     "metadata": {},
     "output_type": "display_data"
    }
   ],
   "source": [
    "import numpy as np\n",
    "import matplotlib.pyplot as plt\n",
    "# Load Data (A little cleaner this time)\n",
    "data = np.load('data_w_labels.npz')\n",
    "Bdata = data['vec']     # Binder Word Vectors\n",
    "Gdata = data['gVec']    # Google word Vectors\n",
    "L1 = data['L1']     # Super Category labels\n",
    "L2 = data['L2']     # Category labels\n",
    "\n",
    "# Linear Relation and check\n",
    "W_app = np.linalg.lstsq(Bdata, Gdata)[0]\n",
    "error = Bdata.dot(W_app)\n",
    "PercErr = np.sqrt(np.sum((Gdata - error)**2,axis=1) / np.sum(Gdata**2, axis=1))\n",
    "plt.figure(1, figsize=(8,6))\n",
    "plt.hist(PercErr,15)\n",
    "plt.title('Simplest Relation', fontweight='bold', fontsize=16)\n",
    "plt.xlabel(r'Magnitude of: $ \\frac{Error Vector}{Correct Vector}$',fontsize=16)\n",
    "plt.ylabel('Frequency',fontsize=16)\n",
    "plt.show()"
   ]
  },
  {
   "cell_type": "markdown",
   "metadata": {},
   "source": [
    "# Lets try Machine learning ...\n",
    "We can make three models. For each model, we will evaluate the same way. Just plug in the raw data, predict an output, and then find the difference vector for each word, and divide the magnitude of the difference vector for the word by the magnitude of the original word vector (for some sense of % error)\n",
    "    1. Small Model\n",
    "        * 1 hidden layer\n",
    "    2. Deep model\n",
    "        * 14 Hidden layers\n",
    "    3. Wide model\n",
    "        * 2 Hidden layers"
   ]
  },
  {
   "cell_type": "code",
   "execution_count": 2,
   "metadata": {
    "scrolled": true
   },
   "outputs": [
    {
     "name": "stderr",
     "output_type": "stream",
     "text": [
      "Using TensorFlow backend.\n"
     ]
    },
    {
     "data": {
      "image/png": "[encoded data removed]",
      "text/plain": [
       "<matplotlib.figure.Figure at 0x7fbb07402860>"
      ]
     },
     "metadata": {},
     "output_type": "display_data"
    }
   ],
   "source": [
    "from keras.models import Sequential, Model\n",
    "from keras.layers import Dense\n",
    "\n",
    "# Lets make a small model first\n",
    "model1 = Sequential()\n",
    "model1.add(Dense(65, input_dim=65, kernel_initializer='normal', activation='relu'))\n",
    "model1.add(Dense(200, input_dim=65, kernel_initializer='normal', activation='relu'))\n",
    "model1.add(Dense(300, input_dim=200, kernel_initializer='normal'))\n",
    "model1.compile(loss='mean_squared_error', optimizer='adam')\n",
    "model1.fit(Bdata, Gdata, epochs=10000, batch_size=535,  verbose=0)\n",
    "\n",
    "\n",
    "# Lets see what the error is\n",
    "M1error = np.sqrt(np.sum((Gdata - model1.predict(Bdata))**2,axis=1) / np.sum(Gdata**2, axis=1))\n",
    "plt.hist(M1error,15)\n",
    "plt.title('Simple NN', fontweight='bold', fontsize=16)\n",
    "plt.xlabel(r'Magnitude of: $ \\frac{Error Vector}{Correct Vector}$',fontsize=16)\n",
    "plt.ylabel('Frequency',fontsize=16)\n",
    "plt.show()"
   ]
  },
  {
   "cell_type": "code",
   "execution_count": 3,
   "metadata": {},
   "outputs": [
    {
     "data": {
      "image/png": "[encoded data removed]",
      "text/plain": [
       "<matplotlib.figure.Figure at 0x7fbafd317198>"
      ]
     },
     "metadata": {},
     "output_type": "display_data"
    }
   ],
   "source": [
    "# Lets make a deeper model\n",
    "model2 = Sequential()\n",
    "model2.add(Dense(65, input_dim=65, kernel_initializer='normal', activation='relu'))\n",
    "model2.add(Dense(200, input_dim=65, kernel_initializer='normal', activation='relu'))\n",
    "model2.add(Dense(200, input_dim=200, kernel_initializer='normal', activation='relu'))\n",
    "model2.add(Dense(200, input_dim=200, kernel_initializer='normal', activation='relu'))\n",
    "model2.add(Dense(200, input_dim=200, kernel_initializer='normal', activation='relu'))\n",
    "model2.add(Dense(200, input_dim=200, kernel_initializer='normal', activation='relu'))\n",
    "model2.add(Dense(200, input_dim=200, kernel_initializer='normal', activation='relu'))\n",
    "model2.add(Dense(200, input_dim=200, kernel_initializer='normal', activation='relu'))\n",
    "model2.add(Dense(200, input_dim=200, kernel_initializer='normal', activation='relu'))\n",
    "model2.add(Dense(200, input_dim=200, kernel_initializer='normal', activation='relu'))\n",
    "model2.add(Dense(200, input_dim=200, kernel_initializer='normal', activation='relu'))\n",
    "model2.add(Dense(200, input_dim=200, kernel_initializer='normal', activation='relu'))\n",
    "model2.add(Dense(200, input_dim=200, kernel_initializer='normal', activation='relu'))\n",
    "model2.add(Dense(200, input_dim=200, kernel_initializer='normal', activation='relu'))\n",
    "model2.add(Dense(300, input_dim=200, kernel_initializer='normal', activation='relu'))\n",
    "model2.add(Dense(300, kernel_initializer='normal'))\n",
    "model2.compile(loss='mean_squared_error', optimizer='adam')\n",
    "model2.fit(Bdata, Gdata, epochs=10000, batch_size=535,  verbose=0)\n",
    "# Lets see what the error is\n",
    "M2error = np.sqrt(np.sum((Gdata - model2.predict(Bdata))**2,axis=1) / np.sum(Gdata**2, axis=1))\n",
    "plt.hist(M2error,15)\n",
    "plt.title('Deep NN', fontweight='bold', fontsize=16)\n",
    "plt.xlabel(r'Magnitude of: $ \\frac{Error Vector}{Correct Vector}$',fontsize=16)\n",
    "plt.ylabel('Frequency',fontsize=16)\n",
    "plt.show()"
   ]
  },
  {
   "cell_type": "code",
   "execution_count": 4,
   "metadata": {},
   "outputs": [
    {
     "data": {
      "image/png": "[encoded data removed]",
      "text/plain": [
       "<matplotlib.figure.Figure at 0x7fbae5b4b320>"
      ]
     },
     "metadata": {},
     "output_type": "display_data"
    }
   ],
   "source": [
    "# Lets make a wider model\n",
    "model3 = Sequential()\n",
    "model3.add(Dense(65, input_dim=65, kernel_initializer='normal', activation='relu'))\n",
    "model3.add(Dense(300, input_dim=65, kernel_initializer='normal', activation='relu'))\n",
    "model3.add(Dense(500, input_dim=300, kernel_initializer='normal', activation='relu'))\n",
    "model3.add(Dense(300, kernel_initializer='normal'))\n",
    "model3.compile(loss='mean_squared_error', optimizer='adam')\n",
    "model2.fit(Bdata, Gdata, epochs=10000, batch_size=535,  verbose=0)\n",
    "# Lets see what the error is\n",
    "M3error = np.sqrt(np.sum((Gdata - model3.predict(Bdata))**2,axis=1) / np.sum(Gdata**2, axis=1))\n",
    "plt.hist(M3error,15)\n",
    "plt.title('Wide NN', fontweight='bold', fontsize=16)\n",
    "plt.xlabel(r'Magnitude of: $ \\frac{Error Vector}{Correct Vector}$',fontsize=16)\n",
    "plt.ylabel('Frequency',fontsize=16)\n",
    "plt.show()"
   ]
  },
  {
   "cell_type": "code",
   "execution_count": null,
   "metadata": {
    "collapsed": true
   },
   "outputs": [],
   "source": []
  }
 ],
 "metadata": {
  "kernelspec": {
   "display_name": "Python 3",
   "language": "python",
   "name": "python3"
  },
  "language_info": {
   "codemirror_mode": {
    "name": "ipython",
    "version": 3
   },
   "file_extension": ".py",
   "mimetype": "text/x-python",
   "name": "python",
   "nbconvert_exporter": "python",
   "pygments_lexer": "ipython3",
   "version": "3.6.1"
  }
 },
 "nbformat": 4,
 "nbformat_minor": 2
}
