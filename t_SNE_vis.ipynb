{
 "cells": [
  {
   "cell_type": "code",
   "execution_count": 1,
   "metadata": {},
   "outputs": [],
   "source": [
    "import numpy as np\n",
    "import plotly.plotly as py\n",
    "import plotly.graph_objs as go\n",
    "from sklearn import manifold\n",
    "from mpl_toolkits.mplot3d import Axes3D \n",
    "\n",
    "# Load Data\n",
    "data = np.load('data/data_w_labels.npz')\n",
    "Bdata = data['vec']     # Binder Word Vectors\n",
    "Gdata = data['gVec']    # Google word Vectors\n",
    "L1 = data['L1']     # Super Category labels\n",
    "L2 = data['L2']     # Category labels\n",
    "\n",
    "# Use t-SNE to decompose to 3 dim\n",
    "B_red = manifold.TSNE(n_components=3).fit_transform(Bdata)\n",
    "G_red = manifold.TSNE(n_components=3).fit_transform(Gdata)"
   ]
  },
  {
   "cell_type": "code",
   "execution_count": 4,
   "metadata": {},
   "outputs": [
    {
     "data": {
      "text/html": [
       "<iframe id=\"igraph\" scrolling=\"no\" style=\"border:none;\" seamless=\"seamless\" src=\"https://plot.ly/~famousshooter98/10.embed\" height=\"525px\" width=\"100%\"></iframe>"
      ],
      "text/plain": [
       "<plotly.tools.PlotlyDisplay object>"
      ]
     },
     "execution_count": 4,
     "metadata": {},
     "output_type": "execute_result"
    }
   ],
   "source": [
    "# Plot Binder Data\n",
    "trace1 = go.Scatter3d(x=B_red[:,0], y=B_red[:,1], z=B_red[:,2], mode='markers',\n",
    "                     marker=dict(size=6, color=L2, colorscale='Viridis', opacity=1))\n",
    "Pdata = [trace1]\n",
    "layout = go.Layout(title='t-SNE of Binder Data', margin=dict(l=0,r=0,b=0, t=25))\n",
    "fig = go.Figure(data=Pdata, layout=layout)\n",
    "py.iplot(fig, filename='B_treduced')"
   ]
  },
  {
   "cell_type": "code",
   "execution_count": null,
   "metadata": {
    "collapsed": true
   },
   "outputs": [],
   "source": []
  }
 ],
 "metadata": {
  "kernelspec": {
   "display_name": "Python 3",
   "language": "python",
   "name": "python3"
  },
  "language_info": {
   "codemirror_mode": {
    "name": "ipython",
    "version": 3
   },
   "file_extension": ".py",
   "mimetype": "text/x-python",
   "name": "python",
   "nbconvert_exporter": "python",
   "pygments_lexer": "ipython3",
   "version": "3.6.1"
  }
 },
 "nbformat": 4,
 "nbformat_minor": 2
}
