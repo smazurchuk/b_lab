{
 "cells": [
  {
   "cell_type": "markdown",
   "metadata": {},
   "source": [
    "# Qualitative differences"
   ]
  },
  {
   "cell_type": "code",
   "execution_count": 1,
   "metadata": {
    "collapsed": true
   },
   "outputs": [],
   "source": [
    "import numpy as np\n",
    "import matplotlib.pyplot as plt\n",
    "from sklearn import manifold, metrics, preprocessing, cluster\n",
    "\n",
    "# Load Data\n",
    "data = np.load('data/data_w_labels.npz')\n",
    "Bdata = data['vec']     # Binder Word Vectors\n",
    "Gdata = data['gVec']    # Google word Vectors\n",
    "L1 = data['L1']         # Super Category labels\n",
    "L2 = data['L2']         # Category labels\n",
    "\n"
   ]
  },
  {
   "cell_type": "code",
   "execution_count": null,
   "metadata": {
    "collapsed": true
   },
   "outputs": [],
   "source": [
    "# Use t-SNE to decompose to 2 dim\n",
    "B_red = manifold.TSNE(n_components=2).fit_transform(Bdata)\n",
    "G_red = manifold.TSNE(n_components=2).fit_transform(Gdata)"
   ]
  },
  {
   "cell_type": "code",
   "execution_count": null,
   "metadata": {
    "collapsed": true
   },
   "outputs": [],
   "source": [
    "plt.figure(1, figsize=(16,6))\n",
    "plt.subplot(121)\n",
    "plt.scatter(B_red[:,0], B_red[:,1], s=5, c=L2)\n",
    "plt.title('Binder tSNE Reduced')\n",
    "plt.subplot(122)\n",
    "plt.scatter(G_red[:,0], G_red[:,1], s=5, c=L2)\n",
    "plt.title('Google tSNE Reduced')\n",
    "plt.show()"
   ]
  },
  {
   "cell_type": "code",
   "execution_count": null,
   "metadata": {
    "collapsed": true
   },
   "outputs": [],
   "source": [
    "# For general analysis, lets normalize the vectors\n",
    "B_normed = preprocessing.normalize(Bdata, norm='l2')   # Binder Word Vectors\n",
    "G_normed = preprocessing.normalize(Gdata, norm='l2')   # Google word Vectors\n",
    "\n",
    "# Look at different measures of seperation\n",
    "scB  = metrics.silhouette_score(Bdata, L2)\n",
    "scG  = metrics.silhouette_score(Gdata, L2)\n",
    "chsB = metrics.calinski_harabaz_score(Bdata, L2)\n",
    "chsG = metrics.calinski_harabaz_score(Gdata, L2)\n",
    "print( 'B score: ', scB, '      G score: ', scG)\n",
    "print( 'B score: ', chsB, '      G score: ', chsG)"
   ]
  },
  {
   "cell_type": "markdown",
   "metadata": {},
   "source": [
    "Note, the higher the score, the better the result. Also, I tried this with normalization and the results were a little better. However, the motivation for normalization is not completely clear"
   ]
  },
  {
   "cell_type": "code",
   "execution_count": null,
   "metadata": {
    "collapsed": true
   },
   "outputs": [],
   "source": [
    "# Lets do K-means, and just look at general  traits. Won't use normalization\n",
    "estB = cluster.KMeans(n_clusters=int(max(L2))).fit(Bdata)\n",
    "estG = cluster.KMeans(n_clusters=int(max(L2))).fit(Gdata)\n",
    "Bapp = metrics.adjusted_rand_score(L2, estB.labels_)\n",
    "Gapp = metrics.adjusted_rand_score(L2, estG.labels_)\n",
    "print(Bapp, '     ', Gapp)\n"
   ]
  },
  {
   "cell_type": "markdown",
   "metadata": {},
   "source": [
    "## Lets look at which natural clusters differ the  most"
   ]
  },
  {
   "cell_type": "code",
   "execution_count": null,
   "metadata": {
    "collapsed": true
   },
   "outputs": [],
   "source": [
    "# Calculate Centroids and total distances (L2)\n",
    "B_centroids = np.zeros((47,65))\n",
    "B_cDist = np.zeros((47,))\n",
    "for label in range(47):\n",
    "    B_centroids[label] = np.mean(Bdata[L2==label])\n",
    "for idx, row in enumerate(Bdata):\n",
    "    B_cDist[int(L2[idx])] = B_cDist[int(L2[idx])] + np.linalg.norm(row - B_centroids[int(L2[idx])])\n",
    "\n",
    "G_centroids = np.zeros((47,300))\n",
    "G_cDist = np.zeros((47,))\n",
    "for label in range(47):\n",
    "    G_centroids[label] = np.mean(Gdata[L2==label])\n",
    "for idx, row in enumerate(Gdata):\n",
    "    G_cDist[int(L2[idx])] = G_cDist[int(L2[idx])] + np.linalg.norm(row - G_centroids[int(L2[idx])])"
   ]
  },
  {
   "cell_type": "code",
   "execution_count": null,
   "metadata": {
    "collapsed": true
   },
   "outputs": [],
   "source": [
    "# Scatter\n",
    "plt.scatter(B_cDist, G_cDist)\n",
    "plt.title('Centroid Cumalitive Distance',fontweight='bold', fontsize=16)\n",
    "plt.xlabel('Binder Centroid Distances')\n",
    "plt.ylabel('Google Centroid Distances')\n",
    "plt.show()"
   ]
  },
  {
   "cell_type": "code",
   "execution_count": null,
   "metadata": {
    "collapsed": true
   },
   "outputs": [],
   "source": []
  }
 ],
 "metadata": {
  "kernelspec": {
   "display_name": "Python 3",
   "language": "python",
   "name": "python3"
  },
  "language_info": {
   "codemirror_mode": {
    "name": "ipython",
    "version": 3
   },
   "file_extension": ".py",
   "mimetype": "text/x-python",
   "name": "python",
   "nbconvert_exporter": "python",
   "pygments_lexer": "ipython3",
   "version": "3.6.1"
  }
 },
 "nbformat": 4,
 "nbformat_minor": 2
}
